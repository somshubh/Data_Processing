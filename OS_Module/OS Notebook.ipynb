{
 "cells": [
  {
   "cell_type": "code",
   "execution_count": 1,
   "id": "ced27acf",
   "metadata": {},
   "outputs": [],
   "source": [
    "import os"
   ]
  },
  {
   "cell_type": "code",
   "execution_count": 2,
   "id": "8c952fe2",
   "metadata": {},
   "outputs": [
    {
     "data": {
      "text/plain": [
       "'C:\\\\Users\\\\SOMSHUBHRA GIRI\\\\Desktop'"
      ]
     },
     "execution_count": 2,
     "metadata": {},
     "output_type": "execute_result"
    }
   ],
   "source": [
    "os.getcwd()"
   ]
  },
  {
   "cell_type": "code",
   "execution_count": 3,
   "id": "8311c7ca",
   "metadata": {},
   "outputs": [
    {
     "name": "stdout",
     "output_type": "stream",
     "text": [
      " Volume in drive C is Windows\n",
      " Volume Serial Number is 6E73-904C\n",
      "\n",
      " Directory of C:\\Users\\SOMSHUBHRA GIRI\\Desktop\n",
      "\n",
      "17-04-2023  23:09    <DIR>          .\n",
      "18-03-2023  00:34    <DIR>          ..\n",
      "17-04-2023  23:09    <DIR>          .ipynb_checkpoints\n",
      "18-02-2023  22:00           316,558 Adobe Scan 18 Feb 2023 (2)_1.jpg\n",
      "09-10-2022  21:14             2,631 car inventory.txt\n",
      "31-03-2020  19:23               392 dbconfig.php\n",
      "06-09-2022  00:04             1,173 Docker.txt\n",
      "21-07-2022  01:02               694 eclipse - Shortcut.lnk\n",
      "09-10-2022  21:10               717 hibernate.txt\n",
      "16-07-2022  11:01            28,583 kps_sir.docx\n",
      "08-05-2020  13:57             7,667 mckv logo.png\n",
      "27-12-2022  00:46               579 Optional.txt\n",
      "17-04-2023  23:08                72 OS Notebook.ipynb\n",
      "21-01-2023  20:37               132 power bi some importent note.txt\n",
      "11-01-2022  22:51               794 SpringToolSuite4 - Shortcut.lnk\n",
      "31-03-2020  19:48             1,383 ss\n",
      "25-02-2022  01:19           286,497 ssc-logo.png\n",
      "16-04-2023  12:54    <DIR>          test\n",
      "26-02-2023  11:44             2,714 YouTube.lnk\n",
      "              15 File(s)        650,586 bytes\n",
      "               4 Dir(s)  87,111,413,760 bytes free\n"
     ]
    }
   ],
   "source": [
    "ls"
   ]
  },
  {
   "cell_type": "code",
   "execution_count": 4,
   "id": "b9684a1d",
   "metadata": {},
   "outputs": [
    {
     "data": {
      "text/plain": [
       "'C:\\\\Users\\\\SOMSHUBHRA GIRI\\\\Desktop'"
      ]
     },
     "execution_count": 4,
     "metadata": {},
     "output_type": "execute_result"
    }
   ],
   "source": [
    "pwd"
   ]
  },
  {
   "cell_type": "code",
   "execution_count": 5,
   "id": "bf09bb4e",
   "metadata": {},
   "outputs": [],
   "source": [
    "os.chdir('Test')"
   ]
  },
  {
   "cell_type": "code",
   "execution_count": 6,
   "id": "b3ad115b",
   "metadata": {},
   "outputs": [
    {
     "data": {
      "text/plain": [
       "'C:\\\\Users\\\\SOMSHUBHRA GIRI\\\\Desktop\\\\Test'"
      ]
     },
     "execution_count": 6,
     "metadata": {},
     "output_type": "execute_result"
    }
   ],
   "source": [
    "pwd"
   ]
  },
  {
   "cell_type": "code",
   "execution_count": 7,
   "id": "84e71897",
   "metadata": {},
   "outputs": [],
   "source": [
    "os.chdir('A')"
   ]
  },
  {
   "cell_type": "code",
   "execution_count": 8,
   "id": "0a8d0152",
   "metadata": {},
   "outputs": [
    {
     "data": {
      "text/plain": [
       "'C:\\\\Users\\\\SOMSHUBHRA GIRI\\\\Desktop\\\\Test\\\\A'"
      ]
     },
     "execution_count": 8,
     "metadata": {},
     "output_type": "execute_result"
    }
   ],
   "source": [
    "pwd"
   ]
  },
  {
   "cell_type": "code",
   "execution_count": 11,
   "id": "724611d7",
   "metadata": {},
   "outputs": [],
   "source": [
    "os.chdir('../')"
   ]
  },
  {
   "cell_type": "code",
   "execution_count": 12,
   "id": "39d988fa",
   "metadata": {},
   "outputs": [
    {
     "data": {
      "text/plain": [
       "'C:\\\\Users\\\\SOMSHUBHRA GIRI\\\\Desktop'"
      ]
     },
     "execution_count": 12,
     "metadata": {},
     "output_type": "execute_result"
    }
   ],
   "source": [
    "pwd"
   ]
  },
  {
   "cell_type": "code",
   "execution_count": 13,
   "id": "cf6ed4eb",
   "metadata": {
    "scrolled": true
   },
   "outputs": [
    {
     "name": "stdout",
     "output_type": "stream",
     "text": [
      " Volume in drive C is Windows\n",
      " Volume Serial Number is 6E73-904C\n",
      "\n",
      " Directory of C:\\Users\\SOMSHUBHRA GIRI\\Desktop\n",
      "\n",
      "17-04-2023  23:16    <DIR>          .\n",
      "18-03-2023  00:34    <DIR>          ..\n",
      "17-04-2023  23:09    <DIR>          .ipynb_checkpoints\n",
      "18-02-2023  22:00           316,558 Adobe Scan 18 Feb 2023 (2)_1.jpg\n",
      "09-10-2022  21:14             2,631 car inventory.txt\n",
      "31-03-2020  19:23               392 dbconfig.php\n",
      "06-09-2022  00:04             1,173 Docker.txt\n",
      "21-07-2022  01:02               694 eclipse - Shortcut.lnk\n",
      "09-10-2022  21:10               717 hibernate.txt\n",
      "16-07-2022  11:01            28,583 kps_sir.docx\n",
      "08-05-2020  13:57             7,667 mckv logo.png\n",
      "27-12-2022  00:46               579 Optional.txt\n",
      "17-04-2023  23:16             4,594 OS Notebook.ipynb\n",
      "21-01-2023  20:37               132 power bi some importent note.txt\n",
      "11-01-2022  22:51               794 SpringToolSuite4 - Shortcut.lnk\n",
      "31-03-2020  19:48             1,383 ss\n",
      "25-02-2022  01:19           286,497 ssc-logo.png\n",
      "17-04-2023  23:15    <DIR>          test\n",
      "26-02-2023  11:44             2,714 YouTube.lnk\n",
      "              15 File(s)        655,108 bytes\n",
      "               4 Dir(s)  87,106,252,800 bytes free\n"
     ]
    }
   ],
   "source": [
    "ls"
   ]
  },
  {
   "cell_type": "code",
   "execution_count": 14,
   "id": "ca1c5590",
   "metadata": {},
   "outputs": [],
   "source": [
    "os.mkdir(\"GFG\")"
   ]
  },
  {
   "cell_type": "code",
   "execution_count": 15,
   "id": "f525a3a8",
   "metadata": {},
   "outputs": [],
   "source": [
    "os.makedirs(\"GFG/GFG/GFG\")"
   ]
  },
  {
   "cell_type": "code",
   "execution_count": 18,
   "id": "5fa954ff",
   "metadata": {},
   "outputs": [
    {
     "name": "stderr",
     "output_type": "stream",
     "text": [
      "'rm' is not recognized as an internal or external command,\n",
      "operable program or batch file.\n"
     ]
    }
   ],
   "source": [
    "!rm -r GFG"
   ]
  },
  {
   "cell_type": "code",
   "execution_count": 19,
   "id": "fdc93ce4",
   "metadata": {},
   "outputs": [
    {
     "data": {
      "text/plain": [
       "'C:\\\\Users\\\\SOMSHUBHRA GIRI\\\\Desktop'"
      ]
     },
     "execution_count": 19,
     "metadata": {},
     "output_type": "execute_result"
    }
   ],
   "source": [
    "pwd"
   ]
  },
  {
   "cell_type": "code",
   "execution_count": 30,
   "id": "1215f800",
   "metadata": {},
   "outputs": [],
   "source": [
    "os.rmdir('GFG')"
   ]
  },
  {
   "cell_type": "code",
   "execution_count": 32,
   "id": "2f456227",
   "metadata": {},
   "outputs": [],
   "source": [
    "os.remove('test.txt')"
   ]
  },
  {
   "cell_type": "code",
   "execution_count": 33,
   "id": "8f59ec39",
   "metadata": {},
   "outputs": [],
   "source": [
    "os.rename('txt.txt','test.txt')"
   ]
  },
  {
   "cell_type": "code",
   "execution_count": 35,
   "id": "13f90778",
   "metadata": {},
   "outputs": [
    {
     "data": {
      "text/plain": [
       "['A', 'B', 'C', 'D']"
      ]
     },
     "execution_count": 35,
     "metadata": {},
     "output_type": "execute_result"
    }
   ],
   "source": [
    "os.listdir('GFG')"
   ]
  },
  {
   "cell_type": "code",
   "execution_count": 45,
   "id": "98fbe0b7",
   "metadata": {},
   "outputs": [
    {
     "name": "stdout",
     "output_type": "stream",
     "text": [
      "Enter the dir name :F\n",
      "Dir created Successfully\n"
     ]
    }
   ],
   "source": [
    "n=input(\"Enter the dir name :\")\n",
    "\n",
    "if os.path.exists('GFG/'+n):\n",
    "     print('already exist!!')\n",
    "else:\n",
    "    os.mkdir('GFG/'+n)\n",
    "    print('Dir created Successfully')"
   ]
  },
  {
   "cell_type": "code",
   "execution_count": 1,
   "id": "7b668195",
   "metadata": {},
   "outputs": [
    {
     "data": {
      "text/plain": [
       "'C:\\\\Users\\\\SOMSHUBHRA GIRI\\\\Desktop'"
      ]
     },
     "execution_count": 1,
     "metadata": {},
     "output_type": "execute_result"
    }
   ],
   "source": [
    "pwd"
   ]
  },
  {
   "cell_type": "code",
   "execution_count": 2,
   "id": "4b1db340",
   "metadata": {},
   "outputs": [
    {
     "name": "stdout",
     "output_type": "stream",
     "text": [
      "Enter the Dir Name :SOM\n",
      "Enter the numbers of Dir :10\n",
      "Dir created successfully!!!\n"
     ]
    }
   ],
   "source": [
    "import os\n",
    "n=input(\"Enter the Dir Name :\")\n",
    "m=int(input(\"Enter the numbers of Dir :\"))\n",
    "\n",
    "os.mkdir(n)\n",
    "for i in range(m):\n",
    "    name=n+'/'+n+' '+str(i+1)\n",
    "    os.mkdir(name)\n",
    "print(\"Dir created successfully!!!\")"
   ]
  },
  {
   "cell_type": "code",
   "execution_count": 4,
   "id": "92a83082",
   "metadata": {},
   "outputs": [
    {
     "name": "stdout",
     "output_type": "stream",
     "text": [
      "Enter the Dir Name :SOM\n",
      "Enter the numbers of Dir :2\n",
      "Enter the numbers of Sub_Dir :3\n",
      "created successfully!!!\n",
      "Total folder : 9\n"
     ]
    }
   ],
   "source": [
    "import os\n",
    "n=input(\"Enter the Dir Name :\")\n",
    "m=int(input(\"Enter the numbers of Dir :\"))\n",
    "p=int(input(\"Enter the numbers of Sub_Dir :\"))\n",
    "\n",
    "os.mkdir(n)\n",
    "for i in range(m):\n",
    "    name=n+'/'+n+' '+str(i+1)\n",
    "    os.mkdir(name)\n",
    "    for j in range(p):\n",
    "        name=n+'/'+n+' '+str(i+1)+'/'+n+' '+str(j+1)\n",
    "        os.mkdir(name)\n",
    "print(\"created successfully!!!\")\n",
    "print(\"Total folder :\",m*p+m+1)"
   ]
  },
  {
   "cell_type": "code",
   "execution_count": 9,
   "id": "2f47fb58",
   "metadata": {},
   "outputs": [
    {
     "name": "stdout",
     "output_type": "stream",
     "text": [
      "A/AA.txt Hi all, How are you\n",
      "\n",
      "A/BB.txt This is file BB\n",
      "\n",
      "A/CC.txt This is file CC\n",
      "\n",
      "A/DD.txt This is file DD\n",
      "\n"
     ]
    }
   ],
   "source": [
    "import os\n",
    "files=os.listdir('A')\n",
    "for i in files:\n",
    "    fd=open('A/'+i , 'r')\n",
    "    print('A/'+i,fd.read())\n",
    "    fd.close()\n",
    "    "
   ]
  },
  {
   "cell_type": "code",
   "execution_count": 15,
   "id": "0f51d132",
   "metadata": {},
   "outputs": [],
   "source": [
    "import os\n",
    "fd_write=open('Test1.txt','a')\n",
    "files=os.listdir('A')\n",
    "for i in files:\n",
    "    fd_read=open('A/'+i,'r')\n",
    "    fd_write.write(fd_read.read())\n",
    "    fd_read.close()\n",
    "fd_write.close()"
   ]
  },
  {
   "cell_type": "code",
   "execution_count": 16,
   "id": "12e716d8",
   "metadata": {},
   "outputs": [],
   "source": [
    "import os\n",
    "str=''\n",
    "files=os.listdir('A')\n",
    "for i in files:\n",
    "    fd_read=open('A/'+i,'r')\n",
    "    str += fd_read.read()\n",
    "    fd_read.close()\n",
    "fd_write=open('Test2.txt','a')\n",
    "fd_write.write(str)\n",
    "fd_write.close()"
   ]
  }
 ],
 "metadata": {
  "kernelspec": {
   "display_name": "Python 3 (ipykernel)",
   "language": "python",
   "name": "python3"
  },
  "language_info": {
   "codemirror_mode": {
    "name": "ipython",
    "version": 3
   },
   "file_extension": ".py",
   "mimetype": "text/x-python",
   "name": "python",
   "nbconvert_exporter": "python",
   "pygments_lexer": "ipython3",
   "version": "3.11.2"
  }
 },
 "nbformat": 4,
 "nbformat_minor": 5
}
